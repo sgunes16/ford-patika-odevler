{
 "cells": [
  {
   "cell_type": "markdown",
   "id": "7664e1ed-15af-448e-a5cf-7944fcc3a3cf",
   "metadata": {},
   "source": [
    "# **ÖDEV (1.HAFTA)**"
   ]
  },
  {
   "cell_type": "markdown",
   "id": "867899b1-2885-4470-956d-91b816ab51c5",
   "metadata": {
    "id": "39f94c75-97f6-4ad4-81c8-302be5c6fa77"
   },
   "source": [
    "1- İki çocuğunun yaşları toplamı 5'tir. 3 yıl sonra babanın yaşı çocukların yaşları toplamının 3 katı olacağına göre babanın bugünkü yaşı kaçtır? \n",
    "\n",
    "Denklemi python dilinde kurunuz ve çıktıyı print ediniz. "
   ]
  },
  {
   "cell_type": "code",
   "execution_count": 6,
   "id": "0e7decff-83fd-4d86-8a95-78335e22695d",
   "metadata": {},
   "outputs": [
    {
     "name": "stdout",
     "output_type": "stream",
     "text": [
      "30\n"
     ]
    }
   ],
   "source": [
    "a = 5\n",
    "b = (6 + a)*3 - 3\n",
    "print(b)"
   ]
  },
  {
   "cell_type": "markdown",
   "id": "301c8cbd-6617-4f3b-bd7e-e1ebc252c69d",
   "metadata": {
    "id": "6fb2cb52-65f0-4a80-a4f4-f31f7b70bf5f"
   },
   "source": [
    "2-_Veri bilimi, verilerden değer elde etmek için istatistik, bilimsel yöntemler, yapay zeka (AI) ve veri analizi dahil olmak üzere birçok alanı bir araya getirir. Veri Bilimiyle uğraşan kişilere veri bilimci denir. Bu kişiler web, akıllı telefonlar, müşteriler, sensörler ve diğer kaynaklardan toplanan verileri analiz etmek ve bunlardan eyleme dönüştürülebilir içgörüler üretmek amacıyla bir dizi beceriyi bir araya getirir._\n",
    "\n",
    "Yukarıda yer alan metindeki \"veri bilim\" kelimelerini bulup yerine \"VERİ BİLİM\" yazınız."
   ]
  },
  {
   "cell_type": "code",
   "execution_count": 10,
   "id": "0affd855-100a-4491-970a-90314fce430a",
   "metadata": {},
   "outputs": [
    {
     "name": "stdout",
     "output_type": "stream",
     "text": [
      "VERİ BİLİMi, verilerden değer elde etmek için istatistik, bilimsel yöntemler, yapay zeka (ai) ve veri analizi dahil olmak üzere birçok alanı bir araya getirir. VERİ BİLİMiyle uğraşan kişilere VERİ BİLİMci denir. bu kişiler web, akıllı telefonlar, müşteriler, sensörler ve diğer kaynaklardan toplanan verileri analiz etmek ve bunlardan eyleme dönüştürülebilir içgörüler üretmek amacıyla bir dizi beceriyi bir araya getirir.\n"
     ]
    }
   ],
   "source": [
    "a = \"Veri bilimi, verilerden değer elde etmek için istatistik, bilimsel yöntemler, yapay zeka (AI) ve veri analizi dahil olmak üzere birçok alanı bir araya getirir. Veri Bilimiyle uğraşan kişilere veri bilimci denir. Bu kişiler web, akıllı telefonlar, müşteriler, sensörler ve diğer kaynaklardan toplanan verileri analiz etmek ve bunlardan eyleme dönüştürülebilir içgörüler üretmek amacıyla bir dizi beceriyi bir araya getirir.\"\n",
    "a = a.lower().replace(\"veri bilim\",\"VERİ BİLİM\")\n",
    "print(a)"
   ]
  },
  {
   "cell_type": "markdown",
   "id": "9e1b9eb4-caf3-49b5-8180-55fe6595515e",
   "metadata": {
    "id": "bc97013a-39a7-465c-89e4-41420aaa2655"
   },
   "source": [
    "3- Adını, soyadını, yaşını, yaşadığın şehri ve üniversite ortalamanı aralarında birer boşluk olacak şekilde tek bir print ifade içerisinde yazın."
   ]
  },
  {
   "cell_type": "code",
   "execution_count": 147,
   "id": "ba783772-6c80-438e-a0e8-f0accf92e076",
   "metadata": {},
   "outputs": [
    {
     "name": "stdout",
     "output_type": "stream",
     "text": [
      "Mustafa Selman Güneş 24 İstanbul 2.86\n"
     ]
    }
   ],
   "source": [
    "b = [\"Mustafa Selman\",\"Güneş\",\"24\",\"İstanbul\",2.86]\n",
    "print(f\"{b[0]} {b[1]} {b[2]} {b[3]} {b[4]}\")"
   ]
  },
  {
   "cell_type": "markdown",
   "id": "92c851d1-873a-49b7-bc1c-b0cce03a893f",
   "metadata": {
    "id": "29ec9965-6933-45d7-9496-c42e94045e19"
   },
   "source": [
    "4- Veri bilimi günümüzün en heyecan verici alanlardan biridir.\n",
    "\n",
    "\"Veri bilimi\" ve \"alanlardan biridir.\" kelimelerini cümle içerisinden alınız ve her kelimeyi uzunlukları kadar aşağı doğru çoğaltarak print ediniz.\n",
    "\n",
    "NOT: \"\\n\" ifadesi alt satıra geçer "
   ]
  },
  {
   "cell_type": "code",
   "execution_count": 27,
   "id": "766f3bbf-96f6-4a55-8fb5-540fc5f585ce",
   "metadata": {
    "tags": []
   },
   "outputs": [
    {
     "name": "stdout",
     "output_type": "stream",
     "text": [
      "Veri bilimi\n",
      "Veri bilimi\n",
      "Veri bilimi\n",
      "Veri bilimi\n",
      "Veri bilimi\n",
      "Veri bilimi\n",
      "Veri bilimi\n",
      "Veri bilimi\n",
      "Veri bilimi\n",
      "Veri bilimi\n",
      "Veri bilimi\n",
      "alanlardan biridir.\n",
      "alanlardan biridir.\n",
      "alanlardan biridir.\n",
      "alanlardan biridir.\n",
      "alanlardan biridir.\n",
      "alanlardan biridir.\n",
      "alanlardan biridir.\n",
      "alanlardan biridir.\n",
      "alanlardan biridir.\n",
      "alanlardan biridir.\n",
      "alanlardan biridir.\n",
      "alanlardan biridir.\n",
      "alanlardan biridir.\n",
      "alanlardan biridir.\n",
      "alanlardan biridir.\n",
      "alanlardan biridir.\n",
      "alanlardan biridir.\n",
      "alanlardan biridir.\n",
      "alanlardan biridir.\n"
     ]
    }
   ],
   "source": [
    "a = \"Veri bilimi günümüzün en heyecan verici alanlardan biridir.\"\n",
    "a = a.split(\" \")\n",
    "b = a[:2]\n",
    "b = b[0] + \" \" + b[1]\n",
    "c = a[-2:]\n",
    "c = c[0] + \" \" + c[1]\n",
    "d = [b,c]\n",
    "for item in d:\n",
    "    for i in range(len(item)):\n",
    "        print(item)"
   ]
  },
  {
   "cell_type": "markdown",
   "id": "f1978d1a-72e9-4f39-8c4f-5c33a1de2507",
   "metadata": {
    "id": "932dee64-3a37-41f6-8fc6-465f3c9560de"
   },
   "source": [
    "5- \"veri bilimi\" ve \"VERİ BİLİMİ\" kelimelerinden hangisi büyük hangisi küçük harf ile yazılmış kontrol ediniz.  \n",
    "\n",
    "Not: Hangi fonksiyonu kullanmanız gerektiğini dir() bulabilirsiniz. "
   ]
  },
  {
   "cell_type": "code",
   "execution_count": 29,
   "id": "634e801f-9b47-4fa8-a9c4-3932c6a07c48",
   "metadata": {},
   "outputs": [
    {
     "name": "stdout",
     "output_type": "stream",
     "text": [
      "Bu string küçük harf ile yazılmıştır : veri bilimi\n",
      "Bu string büyük harf ile yazılmıştır : VERİ BİLİMİ\n"
     ]
    }
   ],
   "source": [
    "a = \"veri bilimi\"\n",
    "b = \"VERİ BİLİMİ\"\n",
    "c = [a,b]\n",
    "\n",
    "for item in c:\n",
    "    if item.isupper():\n",
    "        print(\"Bu string büyük harf ile yazılmıştır : \" + item )\n",
    "    else:\n",
    "        print(\"Bu string küçük harf ile yazılmıştır : \" + item )"
   ]
  },
  {
   "cell_type": "markdown",
   "id": "06eed364-c09d-4596-bbec-8558c59eda95",
   "metadata": {},
   "source": [
    "6- adınız, soyadınız, yaşınız, yaşadğınız şehir ve universite not ortalamanız ile bir liste oluşturunuz. Oluşturduğunuz listeyi \"listem\" değişkeni olarak kaydedeiniz."
   ]
  },
  {
   "cell_type": "code",
   "execution_count": 148,
   "id": "9c109643-b4a2-4743-b908-ddf73bff8932",
   "metadata": {},
   "outputs": [],
   "source": [
    "listem = [\"Mustafa Selman\",\"Güneş\",\"24\",\"İstanbul\",2.86]"
   ]
  },
  {
   "cell_type": "markdown",
   "id": "21afac76-6ebb-4f45-bd50-07101121556f",
   "metadata": {},
   "source": [
    "7- \"listem\" değişkeni içerisinden yaşınızı, yaşadığınız şehiri ve universite not ortalamanızı seçerek \"listem2\" değişkenini oluşturunuz. "
   ]
  },
  {
   "cell_type": "code",
   "execution_count": 149,
   "id": "0b1581e4-3b2a-4140-88cf-d824363ac238",
   "metadata": {},
   "outputs": [],
   "source": [
    "listem2 = [listem[2],listem[3],listem[4]]"
   ]
  },
  {
   "cell_type": "markdown",
   "id": "fa762a13-5d06-4571-bccb-d2a8dadbc1f6",
   "metadata": {},
   "source": [
    "8- \"listem2\" değişkeninin her bir elamanının türlerini yazdırınız."
   ]
  },
  {
   "cell_type": "code",
   "execution_count": 150,
   "id": "cee63f40-dc81-4c2f-8d7d-8fa292fe1254",
   "metadata": {},
   "outputs": [
    {
     "name": "stdout",
     "output_type": "stream",
     "text": [
      "Bu elemanının tipi : <class 'str'>'dir'\n",
      "Bu elemanının tipi : <class 'str'>'dir'\n",
      "Bu elemanının tipi : <class 'float'>'dir'\n"
     ]
    }
   ],
   "source": [
    "for item in listem2:\n",
    "    print(f\"Bu elemanının tipi : {type(item)}'dir'\")"
   ]
  },
  {
   "cell_type": "markdown",
   "id": "3240b4e0-401c-4881-a9c1-ea2c0a0d520c",
   "metadata": {},
   "source": [
    "9- \"listem2\" değişkenine aşağıdaki listeyi LİSTE olarak ekleyiniz."
   ]
  },
  {
   "cell_type": "code",
   "execution_count": 151,
   "id": "b637b0c2-f310-4f58-9e87-8fa6813a5c12",
   "metadata": {},
   "outputs": [],
   "source": [
    "eklenecek_liste = [\"Ali\", 90, \"Mehmet\"]\n",
    "\n",
    "listem2 += eklenecek_liste"
   ]
  },
  {
   "cell_type": "markdown",
   "id": "1bd608d6-a894-45ea-9361-b289f10399dd",
   "metadata": {},
   "source": [
    "10- \"listem2\" değişkeninin içinden \"Ali\" ve \"90\" ı seçip Listem3 değişkenine atayınız. "
   ]
  },
  {
   "cell_type": "code",
   "execution_count": 152,
   "id": "484c032e-c424-487e-ae50-9906dea20775",
   "metadata": {},
   "outputs": [],
   "source": [
    "listem3 = [listem2[3],listem2[4]]"
   ]
  },
  {
   "cell_type": "markdown",
   "id": "7d55b88a-d277-46a3-a42b-84a96f29452a",
   "metadata": {},
   "source": [
    "11- \"listem2\" değişkenine Listem3 değişkenini ELEMAN olarak ekleyiniz."
   ]
  },
  {
   "cell_type": "code",
   "execution_count": 153,
   "id": "4746b52a-626c-47ac-baea-daf42d68b4a6",
   "metadata": {},
   "outputs": [],
   "source": [
    "listem2 += listem3"
   ]
  },
  {
   "cell_type": "markdown",
   "id": "d1026cbb-359d-41a8-b826-45db7448f895",
   "metadata": {},
   "source": [
    "12- \"listem2\" içerisinden 90 elemanını siliniz."
   ]
  },
  {
   "cell_type": "code",
   "execution_count": 154,
   "id": "64d66bcc-792a-492d-a962-1826d5a549a1",
   "metadata": {},
   "outputs": [],
   "source": [
    "listem2.remove(90)"
   ]
  },
  {
   "cell_type": "markdown",
   "id": "844e685e-c40e-45b5-8668-470399c158b5",
   "metadata": {},
   "source": [
    "13- 1'den 10'a kadar tüm rakamları azalacak şekilde sıralanmış şekilde bir liste oluşturunuz. \"yeni_liste\" değişkenine atayınız."
   ]
  },
  {
   "cell_type": "code",
   "execution_count": 155,
   "id": "a4544adf-2196-4523-a56b-630a6c6e0992",
   "metadata": {},
   "outputs": [],
   "source": [
    "yeni_liste = []\n",
    "for i in range(10):\n",
    "    yeni_liste.append(i+1)\n",
    "yeni_liste.sort(reverse=True)"
   ]
  },
  {
   "cell_type": "markdown",
   "id": "27566aff-4d25-4f36-b477-30cc800772a0",
   "metadata": {},
   "source": [
    "14- \"yeni_liste\" değişkeninin içerisindeki 7 ve 2 elemanlarının yerlerini belirtiniz."
   ]
  },
  {
   "cell_type": "code",
   "execution_count": 156,
   "id": "2e1b4ee1-c415-41f4-93ea-c2a79e78d57d",
   "metadata": {},
   "outputs": [
    {
     "name": "stdout",
     "output_type": "stream",
     "text": [
      "3\n",
      "8\n"
     ]
    }
   ],
   "source": [
    "print(yeni_liste.index(7))\n",
    "print(yeni_liste.index(2))"
   ]
  },
  {
   "cell_type": "markdown",
   "id": "028d1129-dc6f-4c8c-8d16-a1979a0477bf",
   "metadata": {},
   "source": [
    "15- \"listem2\" üzerinden tuple oluşturunuz ve \"tuple1\" adını veriniz"
   ]
  },
  {
   "cell_type": "code",
   "execution_count": 157,
   "id": "abe7c1b8-5de3-4414-be13-225cf0e4cb98",
   "metadata": {},
   "outputs": [
    {
     "name": "stdout",
     "output_type": "stream",
     "text": [
      "('24', 'İstanbul', 2.86, 'Ali', 'Mehmet', 'Ali', 90)\n"
     ]
    }
   ],
   "source": [
    "tuple1 = tuple(listem2)\n",
    "print(tuple1)"
   ]
  },
  {
   "cell_type": "markdown",
   "id": "49a17cb5-ecd5-42b9-97fd-c4b830063500",
   "metadata": {},
   "source": [
    "16- \"tuple1\" değişkeni içerisindeki \"Ali\" yerine \"Veli\" yazınız."
   ]
  },
  {
   "cell_type": "markdown",
   "id": "88b504c5-f975-48db-b502-3ef78962ecfd",
   "metadata": {},
   "source": [
    "Aslında değiştiremeyiz ama yeniden listeye çevirip değeri değiştirip sonra yeniden tuple yapabiliriz."
   ]
  },
  {
   "cell_type": "code",
   "execution_count": 158,
   "id": "71739304-9fcc-44de-95b7-fabf8dfde16a",
   "metadata": {},
   "outputs": [
    {
     "name": "stdout",
     "output_type": "stream",
     "text": [
      "('24', 'İstanbul', 2.86, 'Veli', 'Mehmet', 'Ali', 90)\n"
     ]
    }
   ],
   "source": [
    "converted_tuple =list(tuple1)\n",
    "converted_tuple[converted_tuple.index(\"Ali\")] = \"Veli\"\n",
    "tuple1 = tuple(converted_tuple)\n",
    "print(tuple1)"
   ]
  },
  {
   "cell_type": "markdown",
   "id": "b7bd6f45-4c77-476c-b41a-0f717f320389",
   "metadata": {},
   "source": [
    "17- 1'den 10'a kadar tüm rakamları azalacak şekilde sıralanmış şekilde bir tuple oluşturunuz. \"yeni_tuple\" değişkenine atayınız. (NOT: methodu siz bulacaksınız)"
   ]
  },
  {
   "cell_type": "code",
   "execution_count": 159,
   "id": "c8a04148-176d-4660-953c-4065c92c6a3a",
   "metadata": {},
   "outputs": [
    {
     "name": "stdout",
     "output_type": "stream",
     "text": [
      "(10, 9, 8, 7, 6, 5, 4, 3, 2, 1)\n"
     ]
    }
   ],
   "source": [
    "yeni_tuple = []\n",
    "for i in range(10):\n",
    "    yeni_tuple.append(i+1)\n",
    "yeni_tuple.sort(reverse=True)\n",
    "\n",
    "yeni_tuple = tuple(yeni_tuple)\n",
    "print(yeni_tuple)"
   ]
  },
  {
   "cell_type": "markdown",
   "id": "6216e50d-de9d-4e74-b243-9a000041d7eb",
   "metadata": {},
   "source": [
    "18- \"yeni_tuple\" değişkeninin içerisindeki 7 ve 2 elemanlarının yerlerini belirtiniz."
   ]
  },
  {
   "cell_type": "code",
   "execution_count": 160,
   "id": "1a3c336b-41b0-42fa-8fdc-c111a2effe8a",
   "metadata": {},
   "outputs": [
    {
     "name": "stdout",
     "output_type": "stream",
     "text": [
      "3\n",
      "8\n"
     ]
    }
   ],
   "source": [
    "print(yeni_tuple.index(7))\n",
    "print(yeni_tuple.index(2))"
   ]
  },
  {
   "cell_type": "markdown",
   "id": "91b74e65-d5b7-4d1d-a1fd-7d8480640314",
   "metadata": {},
   "source": [
    "19- Aşağıda yer alan dictionary'nin içinden REG'in RMSE değerini, LOG'un MSE değerini ve CART'ın SSE değerini ayrı ayrı çekip yeni bir SET oluşturunuz. "
   ]
  },
  {
   "cell_type": "code",
   "execution_count": 161,
   "id": "4d349e7c-ca59-4a0e-b377-83f785301b92",
   "metadata": {},
   "outputs": [
    {
     "name": "stdout",
     "output_type": "stream",
     "text": [
      "{10, 20}\n"
     ]
    }
   ],
   "source": [
    "dictionary = {\"REG\": [\"RMSE\", 10],\n",
    "              \"LOG\": [\"MSE\", 20],\n",
    "              \"CART\": [\"SSE\", 10]}\n",
    "new_set = {dictionary[\"REG\"][1],dictionary[\"LOG\"][1],dictionary[\"CART\"][1]}\n",
    "print(new_set)"
   ]
  },
  {
   "cell_type": "markdown",
   "id": "f519a647-99bd-4fda-b276-800020d6f083",
   "metadata": {},
   "source": [
    "20- CART değerini [\"SSE\", 30] olarak değiştiriniz. "
   ]
  },
  {
   "cell_type": "code",
   "execution_count": 162,
   "id": "232be95b-f4f3-4fe5-abcf-f817bde6500a",
   "metadata": {},
   "outputs": [
    {
     "name": "stdout",
     "output_type": "stream",
     "text": [
      "{'REG': ['RMSE', 10], 'LOG': ['MSE', 20], 'CART': ['SSE', 30]}\n"
     ]
    }
   ],
   "source": [
    "dictionary[\"CART\"][1] = 30\n",
    "print(dictionary)"
   ]
  },
  {
   "cell_type": "markdown",
   "id": "32a58270-b709-4f3d-86dd-15d3e17e06d6",
   "metadata": {},
   "source": [
    "21- Sözlüğe yeni bir \"RF\" key değeri ekleyerek value'sunu [\"SSE\", 50] olarak tanımlayınız.  "
   ]
  },
  {
   "cell_type": "code",
   "execution_count": 98,
   "id": "5d5959cd-9123-43f4-92d1-4e00a1e38fcb",
   "metadata": {},
   "outputs": [
    {
     "name": "stdout",
     "output_type": "stream",
     "text": [
      "{'REG': ['RMSE', 10], 'LOG': ['MSE', 20], 'CART': ['SSE', 30], 'RF': ['SSE', 50]}\n"
     ]
    }
   ],
   "source": [
    "dictionary[\"RF\"] = [\"SSE\",50]\n",
    "print(dictionary)"
   ]
  },
  {
   "cell_type": "markdown",
   "id": "bb2fcb9d-2101-4af8-a5ff-94820609524f",
   "metadata": {},
   "source": [
    "22- Aşağıda yer alan listeyi SET'e çeviriniz, \"set1\" adını veriniz ve içindeki eleman sayısını söyleyiniz. "
   ]
  },
  {
   "cell_type": "code",
   "execution_count": 99,
   "id": "1ec08309-674f-4d0c-afaf-78dbaecd738b",
   "metadata": {},
   "outputs": [],
   "source": [
    "liste1 = [10, 20, 10, \"Ali\", 10, \"Ali\", \"Mehmet\", 20, \"Ayşe\" ]\n",
    "set1 = set(liste1)"
   ]
  },
  {
   "cell_type": "markdown",
   "id": "db0e1841-c521-426f-ba47-38c3fa0d3a45",
   "metadata": {},
   "source": [
    "23- \"set1\" kümesinin içinden 5. eleman ile 7. elemanı çekiniz. "
   ]
  },
  {
   "cell_type": "markdown",
   "id": "5d3830cf-eee4-408d-a3c3-bd8c89c46c01",
   "metadata": {},
   "source": [
    "Değerler indexlenmediği için çekemeyiz"
   ]
  },
  {
   "cell_type": "markdown",
   "id": "26a8ccb1-6f47-4ab1-8af1-30e49fca6a57",
   "metadata": {},
   "source": [
    "24- \"set1\" kümesinde yer alan \"Ali\" yerine \"Veli\" ve 10 yerini \"40\" değerlerini ekleyiniz.  "
   ]
  },
  {
   "cell_type": "code",
   "execution_count": 103,
   "id": "d7c516de-7db7-4a1f-82b5-e61a7a36ec80",
   "metadata": {},
   "outputs": [
    {
     "name": "stdout",
     "output_type": "stream",
     "text": [
      "{'Veli', 40, 'Ayşe', 20, 'Mehmet'}\n"
     ]
    }
   ],
   "source": [
    "set1.discard(\"Ali\")\n",
    "set1.add(\"Veli\")\n",
    "set1.discard(10)\n",
    "set1.add(40)\n",
    "print(set1)"
   ]
  },
  {
   "cell_type": "markdown",
   "id": "dcc0cc95-ae87-4098-a6c5-0a11aa1a03d5",
   "metadata": {},
   "source": [
    "25- **ZOR SORU** aşağıda yer alan kümeler için soruları cevaplayınız. (Küme methodları kullanılabilir.)"
   ]
  },
  {
   "cell_type": "code",
   "execution_count": 117,
   "id": "14c1f0e3-022a-4ff9-a9d2-272c34df2e3c",
   "metadata": {},
   "outputs": [],
   "source": [
    "set1 = set([1, 3, 5])\n",
    "set2 = set([1, 2, 3])"
   ]
  },
  {
   "cell_type": "markdown",
   "id": "d9c66f31-e0ef-42c9-bca3-730c24ea2a2c",
   "metadata": {},
   "source": [
    "25.1- set1'de olup set2'de olmayanlar hangileridir? (difference())"
   ]
  },
  {
   "cell_type": "code",
   "execution_count": 106,
   "id": "45e2199e-4c86-4294-a612-9cdc9cfc9d09",
   "metadata": {},
   "outputs": [
    {
     "data": {
      "text/plain": [
       "{5}"
      ]
     },
     "execution_count": 106,
     "metadata": {},
     "output_type": "execute_result"
    }
   ],
   "source": [
    "set1.difference(set2)"
   ]
  },
  {
   "cell_type": "markdown",
   "id": "0983e4ae-89d7-4502-9c14-17e44233d702",
   "metadata": {},
   "source": [
    "25.2- set2'de olup set1'de olmayanlar hangileridir? (difference())"
   ]
  },
  {
   "cell_type": "code",
   "execution_count": 107,
   "id": "7019b52a-30ec-4d0d-ba78-0059a3f26e99",
   "metadata": {},
   "outputs": [
    {
     "data": {
      "text/plain": [
       "{2}"
      ]
     },
     "execution_count": 107,
     "metadata": {},
     "output_type": "execute_result"
    }
   ],
   "source": [
    "set2.difference(set1)"
   ]
  },
  {
   "cell_type": "markdown",
   "id": "a5a7587c-91c6-4879-b582-ae8871b8e69b",
   "metadata": {},
   "source": [
    "25.3- İki kümede de birbirlerine göre olmayanlar hangileridir? (symmetric_difference())"
   ]
  },
  {
   "cell_type": "code",
   "execution_count": 108,
   "id": "c16b85cf-6be6-494e-87ce-7e7ec85c0890",
   "metadata": {},
   "outputs": [
    {
     "data": {
      "text/plain": [
       "{2, 5}"
      ]
     },
     "execution_count": 108,
     "metadata": {},
     "output_type": "execute_result"
    }
   ],
   "source": [
    "set1.symmetric_difference(set2)"
   ]
  },
  {
   "cell_type": "markdown",
   "id": "c7d42cd1-c13d-4d4d-8076-3cab3e5e4791",
   "metadata": {},
   "source": [
    "25.4- İki kümenin kesişimi nedir? (intersection())"
   ]
  },
  {
   "cell_type": "code",
   "execution_count": 109,
   "id": "c5ef3d06-d663-41e0-87ac-208a6d3d0b9d",
   "metadata": {},
   "outputs": [
    {
     "data": {
      "text/plain": [
       "{1, 3}"
      ]
     },
     "execution_count": 109,
     "metadata": {},
     "output_type": "execute_result"
    }
   ],
   "source": [
    "set1.intersection(set2)"
   ]
  },
  {
   "cell_type": "markdown",
   "id": "51917b33-b708-4e02-aa1b-eb4053e45612",
   "metadata": {},
   "source": [
    "25.5- İki kümenin birleşimi nedir? (union())"
   ]
  },
  {
   "cell_type": "code",
   "execution_count": 110,
   "id": "fe06dd55-0a35-416b-8567-aa946bd6ac68",
   "metadata": {},
   "outputs": [
    {
     "data": {
      "text/plain": [
       "{1, 2, 3, 5}"
      ]
     },
     "execution_count": 110,
     "metadata": {},
     "output_type": "execute_result"
    }
   ],
   "source": [
    "set1.union(set2)"
   ]
  },
  {
   "cell_type": "markdown",
   "id": "223d3e00-95f8-43b7-898e-ab3a8908b4c9",
   "metadata": {},
   "source": [
    "25.6- İki kümenin kesişimi boş mudur? (isdisjoint())"
   ]
  },
  {
   "cell_type": "code",
   "execution_count": 111,
   "id": "aa572e11-e7c9-40af-8612-dd5c578fc010",
   "metadata": {},
   "outputs": [
    {
     "data": {
      "text/plain": [
       "False"
      ]
     },
     "execution_count": 111,
     "metadata": {},
     "output_type": "execute_result"
    }
   ],
   "source": [
    "set1.isdisjoint(set2)"
   ]
  },
  {
   "cell_type": "markdown",
   "id": "30096636-70be-47f5-bddd-27db6587fd36",
   "metadata": {},
   "source": [
    "25.7- Bir küme diğer kümenin alt kümesi midir? (issubset())"
   ]
  },
  {
   "cell_type": "code",
   "execution_count": 116,
   "id": "356fe207-1e06-4cbb-899a-b3faf8f331c1",
   "metadata": {},
   "outputs": [
    {
     "name": "stdout",
     "output_type": "stream",
     "text": [
      "False\n",
      "True\n"
     ]
    }
   ],
   "source": [
    "print(set1.issubset(set2))\n",
    "print(set2.issubset(set1))"
   ]
  },
  {
   "cell_type": "markdown",
   "id": "6c987f14-f2ec-46fd-a30a-92cdf0d68e59",
   "metadata": {},
   "source": [
    "25.8- Bir küme diğer kümeyi kapsıyor mudur? (isdisjoint())"
   ]
  },
  {
   "cell_type": "code",
   "execution_count": 119,
   "id": "9fda082a-e249-40db-8a35-a96a25cd7195",
   "metadata": {},
   "outputs": [
    {
     "name": "stdout",
     "output_type": "stream",
     "text": [
      "False\n",
      "False\n"
     ]
    }
   ],
   "source": [
    "print(set1.issuperset(set2))\n",
    "print(set2.issuperset(set1))"
   ]
  },
  {
   "cell_type": "code",
   "execution_count": 120,
   "id": "2cd821bc-4ae1-482c-877a-50e163045e24",
   "metadata": {
    "tags": []
   },
   "outputs": [],
   "source": [
    "maaslar = [1000,2000,3000,4000,5000]"
   ]
  },
  {
   "cell_type": "markdown",
   "id": "7f98af2c-26bf-4e7f-90c6-b9cb108aa234",
   "metadata": {},
   "source": [
    "26- Maaslara yuzde 20 zam yaparak zamlı_maaslar listesine atayınız. (Function, For kullanarak)"
   ]
  },
  {
   "cell_type": "code",
   "execution_count": 124,
   "id": "0c97e555-d7a0-48b5-9386-14ebcf6b1a2c",
   "metadata": {},
   "outputs": [
    {
     "name": "stdout",
     "output_type": "stream",
     "text": [
      "[1200.0, 2400.0, 3600.0, 4800.0, 6000.0]\n"
     ]
    }
   ],
   "source": [
    "def zam_yap(maaslar):\n",
    "    zamlı_maaslar = []\n",
    "    for item in maaslar:\n",
    "        zamlı_maaslar.append(item*20/100 + item)\n",
    "        \n",
    "    return zamlı_maaslar\n",
    "\n",
    "zamlı_maaslar = zam_yap(maaslar)\n",
    "print(zamlı_maaslar)"
   ]
  },
  {
   "cell_type": "markdown",
   "id": "3f110d62-a678-4067-a798-7ed68df5190c",
   "metadata": {},
   "source": [
    "27- zamlı_maaslar listesinden 2500 TL altındakileriden 50 TL vergi; 2500 TL  üzerindekilerden 100 TL vergi kesiniz. (Function, For, If kullanarak)"
   ]
  },
  {
   "cell_type": "code",
   "execution_count": 128,
   "id": "886e70e8-c749-451a-9f8d-af1d24489366",
   "metadata": {},
   "outputs": [
    {
     "name": "stdout",
     "output_type": "stream",
     "text": [
      "[1150.0, 2350.0, 3500.0, 4700.0, 5900.0]\n"
     ]
    }
   ],
   "source": [
    "for item in zamlı_maaslar:\n",
    "    if item<2500:\n",
    "        zamlı_maaslar[zamlı_maaslar.index(item)] = item-50\n",
    "    else:\n",
    "        zamlı_maaslar[zamlı_maaslar.index(item)] = item-100\n",
    "print(zamlı_maaslar)"
   ]
  },
  {
   "cell_type": "code",
   "execution_count": 168,
   "id": "4599a095-5edd-488a-aedd-0117f26e1538",
   "metadata": {
    "tags": []
   },
   "outputs": [
    {
     "data": {
      "text/plain": [
       "0"
      ]
     },
     "execution_count": 168,
     "metadata": {},
     "output_type": "execute_result"
    }
   ],
   "source": [
    "students = [\"John\", \"Mark\", \"Venessa\", \"Mariam\"]\n",
    "students.index(\"John\")"
   ]
  },
  {
   "cell_type": "markdown",
   "id": "00f9cc91-e415-4a26-b594-a227428f81e2",
   "metadata": {},
   "source": [
    "28- Listedeki öğrencileri index numaralarına göre iki gruba tek bir listede return edecek bir fonksiyonla yapınız."
   ]
  },
  {
   "cell_type": "code",
   "execution_count": 178,
   "id": "28504174-e4a9-449b-8bd8-a427caa31102",
   "metadata": {},
   "outputs": [
    {
     "name": "stdout",
     "output_type": "stream",
     "text": [
      "[['John', 'Venessa'], ['Mark', 'Mariam']]\n"
     ]
    }
   ],
   "source": [
    "students = [\"John\", \"Mark\", \"Venessa\", \"Mariam\"]\n",
    "def ikiye_bol(students):\n",
    "    final_list = []\n",
    "    first_list = []\n",
    "    second_list = []\n",
    "    for item in students:\n",
    "\n",
    "        if students.index(item) % 2 == 0:\n",
    "            first_list.append(item)\n",
    "        else:\n",
    "            second_list.append(item)\n",
    "            \n",
    "    final_list = [first_list,second_list]\n",
    "    return final_list\n",
    "\n",
    "print(ikiye_bol(students))"
   ]
  },
  {
   "cell_type": "markdown",
   "id": "1cb1ed9b-9c8e-4f06-8e50-687d49321608",
   "metadata": {},
   "source": [
    "29- Aşağıdaki şekilde string'i değiştirecek bir fonksiyon yazınız.\n",
    "\n",
    "    before: \"hi my name is john and i am learning python\"\n",
    "\n",
    "    after: \"Hi mY NaMe iS JoHn aNd i aM LeArNiNg pYtHoN\"\n"
   ]
  },
  {
   "cell_type": "code",
   "execution_count": 135,
   "id": "0a54af5d-8633-4233-abfa-962c10540731",
   "metadata": {},
   "outputs": [
    {
     "name": "stdout",
     "output_type": "stream",
     "text": [
      "Hi mY NaMe iS JoHn aNd i aM LeArNiNg pYtHoN\n"
     ]
    }
   ],
   "source": [
    "text=\"hi my name is john and i am learning python\"\n",
    "def changestring(text):\n",
    "    text_list = list(text)\n",
    "    for i in range(len(text_list)):\n",
    "        if i % 2 ==0:\n",
    "            text_list[i] = text_list[i].upper()\n",
    "    new_text=\"\"\n",
    "    for item in text_list:\n",
    "        new_text += item\n",
    "\n",
    "    print(new_text)\n",
    "changestring(text)"
   ]
  },
  {
   "cell_type": "code",
   "execution_count": 136,
   "id": "d62174a5-7e59-4b34-87b2-44abed242a82",
   "metadata": {},
   "outputs": [
    {
     "name": "stdout",
     "output_type": "stream",
     "text": [
      "Hi mY NaMe iS JoHn aNd i aM LeArNiNg pYtHoN\n"
     ]
    }
   ],
   "source": [
    "def alternating(string):\n",
    "    new_string = \"\"\n",
    "\n",
    "    for string_index in range(len(string)):\n",
    "        if string_index % 2 == 0:\n",
    "            new_string += string[string_index].upper()\n",
    "        else:\n",
    "            new_string += string[string_index].lower()\n",
    "\n",
    "    print(new_string)\n",
    "\n",
    "alternating(\"hi my name is john and i am learning python\")"
   ]
  },
  {
   "cell_type": "markdown",
   "id": "5ffd1e11-7854-4d30-b7ca-3dfba89f306d",
   "metadata": {},
   "source": [
    "30- Yukarıda yer alan fonksiyonu enumerate kullanarak yeniden yazınız."
   ]
  },
  {
   "cell_type": "code",
   "execution_count": 144,
   "id": "37bf6152-0b43-4df0-875e-b97007dfe994",
   "metadata": {},
   "outputs": [
    {
     "name": "stdout",
     "output_type": "stream",
     "text": [
      "Hi mY NaMe iS JoHn aNd i aM LeArNiNg pYtHoN\n"
     ]
    }
   ],
   "source": [
    "text=(\"hi my name is john and i am learning python\")\n",
    "def enumeratedstring(text):\n",
    "    new_string = \"\"\n",
    "    for count, item in enumerate(text):\n",
    "        if count % 2 == 0:\n",
    "            new_string += text[count].upper()\n",
    "        else:\n",
    "            new_string += text[count].lower()\n",
    "    print(new_string)\n",
    "enumeratedstring(text)"
   ]
  },
  {
   "cell_type": "markdown",
   "id": "5bebf11b-b33e-4bc7-a7be-786501dfa89c",
   "metadata": {},
   "source": [
    "31-Kullanıcıdan ismini ve yasını alacak bir fonksiyon olusturunuz. \n",
    "Fonksiyon çıktısı aşağıdaki şekilde olmalı:\n",
    "\n",
    "    Merhaba benim ismim X,\n",
    "    Y yasındayım!"
   ]
  },
  {
   "cell_type": "code",
   "execution_count": 179,
   "id": "17e7e06a-5904-40ab-96eb-6fa346dc24de",
   "metadata": {},
   "outputs": [
    {
     "name": "stdin",
     "output_type": "stream",
     "text": [
      "İsim Selman\n",
      "Yas 24\n"
     ]
    },
    {
     "name": "stdout",
     "output_type": "stream",
     "text": [
      "Merhaba benim ismim Selman\n",
      "24 Yasındayım!\n"
     ]
    }
   ],
   "source": [
    "def al_ve_yazdir(isim,yas):\n",
    "    print(f\"Merhaba benim ismim {isim}\")\n",
    "    print(f\"{yas} Yasındayım!\")\n",
    "    \n",
    "al_ve_yazdir(input(\"İsim\"),input(\"Yas\"))"
   ]
  },
  {
   "cell_type": "code",
   "execution_count": null,
   "id": "a61c34f1-bea1-4f08-945d-05740a2e80fb",
   "metadata": {},
   "outputs": [],
   "source": []
  }
 ],
 "metadata": {
  "kernelspec": {
   "display_name": "Python 3",
   "language": "python",
   "name": "python3"
  },
  "language_info": {
   "codemirror_mode": {
    "name": "ipython",
    "version": 3
   },
   "file_extension": ".py",
   "mimetype": "text/x-python",
   "name": "python",
   "nbconvert_exporter": "python",
   "pygments_lexer": "ipython3",
   "version": "3.8.8"
  }
 },
 "nbformat": 4,
 "nbformat_minor": 5
}
