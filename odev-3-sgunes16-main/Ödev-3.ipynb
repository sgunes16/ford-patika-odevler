{
 "cells": [
  {
   "cell_type": "markdown",
   "id": "765ea270-8a56-4029-a27e-bb88de0b8b80",
   "metadata": {},
   "source": [
    "# **ÖDEV-3**"
   ]
  },
  {
   "cell_type": "markdown",
   "id": "16ead5b7-7f6f-46f4-825f-28fb0c511193",
   "metadata": {},
   "source": [
    "1- Persona.csv verisini kullanarak EDA (Exploratory data analysis) yapın."
   ]
  },
  {
   "cell_type": "code",
   "execution_count": 1,
   "id": "d7d188ec-fbe4-42c7-b06e-6f2b47af243a",
   "metadata": {},
   "outputs": [],
   "source": [
    "import numpy as np\n",
    "import pandas as pd\n",
    "import seaborn as sns\n",
    "from matplotlib import pyplot as plt"
   ]
  },
  {
   "cell_type": "code",
   "execution_count": 3,
   "id": "4ae77171-b1cc-4b40-958d-f006bde21ead",
   "metadata": {},
   "outputs": [],
   "source": [
    "df = pd.read_csv(\"persona.csv\")"
   ]
  },
  {
   "cell_type": "code",
   "execution_count": 5,
   "id": "192a31ff-8936-41d5-92a3-c926d917ad29",
   "metadata": {},
   "outputs": [
    {
     "data": {
      "text/html": [
       "<div>\n",
       "<style scoped>\n",
       "    .dataframe tbody tr th:only-of-type {\n",
       "        vertical-align: middle;\n",
       "    }\n",
       "\n",
       "    .dataframe tbody tr th {\n",
       "        vertical-align: top;\n",
       "    }\n",
       "\n",
       "    .dataframe thead th {\n",
       "        text-align: right;\n",
       "    }\n",
       "</style>\n",
       "<table border=\"1\" class=\"dataframe\">\n",
       "  <thead>\n",
       "    <tr style=\"text-align: right;\">\n",
       "      <th></th>\n",
       "      <th>PRICE</th>\n",
       "      <th>SOURCE</th>\n",
       "      <th>SEX</th>\n",
       "      <th>COUNTRY</th>\n",
       "      <th>AGE</th>\n",
       "    </tr>\n",
       "  </thead>\n",
       "  <tbody>\n",
       "    <tr>\n",
       "      <th>0</th>\n",
       "      <td>39</td>\n",
       "      <td>android</td>\n",
       "      <td>male</td>\n",
       "      <td>bra</td>\n",
       "      <td>17</td>\n",
       "    </tr>\n",
       "    <tr>\n",
       "      <th>1</th>\n",
       "      <td>39</td>\n",
       "      <td>android</td>\n",
       "      <td>male</td>\n",
       "      <td>bra</td>\n",
       "      <td>17</td>\n",
       "    </tr>\n",
       "    <tr>\n",
       "      <th>2</th>\n",
       "      <td>49</td>\n",
       "      <td>android</td>\n",
       "      <td>male</td>\n",
       "      <td>bra</td>\n",
       "      <td>17</td>\n",
       "    </tr>\n",
       "    <tr>\n",
       "      <th>3</th>\n",
       "      <td>29</td>\n",
       "      <td>android</td>\n",
       "      <td>male</td>\n",
       "      <td>tur</td>\n",
       "      <td>17</td>\n",
       "    </tr>\n",
       "    <tr>\n",
       "      <th>4</th>\n",
       "      <td>49</td>\n",
       "      <td>android</td>\n",
       "      <td>male</td>\n",
       "      <td>tur</td>\n",
       "      <td>17</td>\n",
       "    </tr>\n",
       "  </tbody>\n",
       "</table>\n",
       "</div>"
      ],
      "text/plain": [
       "   PRICE   SOURCE   SEX COUNTRY  AGE\n",
       "0     39  android  male     bra   17\n",
       "1     39  android  male     bra   17\n",
       "2     49  android  male     bra   17\n",
       "3     29  android  male     tur   17\n",
       "4     49  android  male     tur   17"
      ]
     },
     "execution_count": 5,
     "metadata": {},
     "output_type": "execute_result"
    }
   ],
   "source": [
    "df.head()"
   ]
  },
  {
   "cell_type": "code",
   "execution_count": 6,
   "id": "d7c4b815-4655-45de-89a5-a89695547259",
   "metadata": {},
   "outputs": [
    {
     "data": {
      "text/html": [
       "<div>\n",
       "<style scoped>\n",
       "    .dataframe tbody tr th:only-of-type {\n",
       "        vertical-align: middle;\n",
       "    }\n",
       "\n",
       "    .dataframe tbody tr th {\n",
       "        vertical-align: top;\n",
       "    }\n",
       "\n",
       "    .dataframe thead th {\n",
       "        text-align: right;\n",
       "    }\n",
       "</style>\n",
       "<table border=\"1\" class=\"dataframe\">\n",
       "  <thead>\n",
       "    <tr style=\"text-align: right;\">\n",
       "      <th></th>\n",
       "      <th>PRICE</th>\n",
       "      <th>SOURCE</th>\n",
       "      <th>SEX</th>\n",
       "      <th>COUNTRY</th>\n",
       "      <th>AGE</th>\n",
       "    </tr>\n",
       "  </thead>\n",
       "  <tbody>\n",
       "    <tr>\n",
       "      <th>4995</th>\n",
       "      <td>29</td>\n",
       "      <td>android</td>\n",
       "      <td>female</td>\n",
       "      <td>bra</td>\n",
       "      <td>31</td>\n",
       "    </tr>\n",
       "    <tr>\n",
       "      <th>4996</th>\n",
       "      <td>29</td>\n",
       "      <td>android</td>\n",
       "      <td>female</td>\n",
       "      <td>bra</td>\n",
       "      <td>31</td>\n",
       "    </tr>\n",
       "    <tr>\n",
       "      <th>4997</th>\n",
       "      <td>29</td>\n",
       "      <td>android</td>\n",
       "      <td>female</td>\n",
       "      <td>bra</td>\n",
       "      <td>31</td>\n",
       "    </tr>\n",
       "    <tr>\n",
       "      <th>4998</th>\n",
       "      <td>39</td>\n",
       "      <td>android</td>\n",
       "      <td>female</td>\n",
       "      <td>bra</td>\n",
       "      <td>31</td>\n",
       "    </tr>\n",
       "    <tr>\n",
       "      <th>4999</th>\n",
       "      <td>29</td>\n",
       "      <td>android</td>\n",
       "      <td>female</td>\n",
       "      <td>bra</td>\n",
       "      <td>31</td>\n",
       "    </tr>\n",
       "  </tbody>\n",
       "</table>\n",
       "</div>"
      ],
      "text/plain": [
       "      PRICE   SOURCE     SEX COUNTRY  AGE\n",
       "4995     29  android  female     bra   31\n",
       "4996     29  android  female     bra   31\n",
       "4997     29  android  female     bra   31\n",
       "4998     39  android  female     bra   31\n",
       "4999     29  android  female     bra   31"
      ]
     },
     "execution_count": 6,
     "metadata": {},
     "output_type": "execute_result"
    }
   ],
   "source": [
    "df.tail()"
   ]
  },
  {
   "cell_type": "code",
   "execution_count": 8,
   "id": "527e1c03-01f4-4cef-aa03-eb9e325227e1",
   "metadata": {},
   "outputs": [],
   "source": [
    "def load_persona():\n",
    "    df = pd.read_csv(\"persona.csv\")\n",
    "    return df"
   ]
  },
  {
   "cell_type": "code",
   "execution_count": 9,
   "id": "c207589c-ff12-4d83-9042-183bb9f8b2da",
   "metadata": {},
   "outputs": [],
   "source": [
    "df = load_persona()"
   ]
  },
  {
   "cell_type": "code",
   "execution_count": 11,
   "id": "279f3c1b-d311-46e2-88ba-e2f0e806808f",
   "metadata": {},
   "outputs": [
    {
     "data": {
      "text/plain": [
       "(5000, 5)"
      ]
     },
     "execution_count": 11,
     "metadata": {},
     "output_type": "execute_result"
    }
   ],
   "source": [
    "df.shape"
   ]
  },
  {
   "cell_type": "code",
   "execution_count": 13,
   "id": "4b2fa44a-8709-4a34-b961-80846e778d11",
   "metadata": {},
   "outputs": [
    {
     "name": "stdout",
     "output_type": "stream",
     "text": [
      "<class 'pandas.core.frame.DataFrame'>\n",
      "Int64Index: 5000 entries, 0 to 4999\n",
      "Data columns (total 5 columns):\n",
      " #   Column   Non-Null Count  Dtype \n",
      "---  ------   --------------  ----- \n",
      " 0   PRICE    5000 non-null   int64 \n",
      " 1   SOURCE   5000 non-null   object\n",
      " 2   SEX      5000 non-null   object\n",
      " 3   COUNTRY  5000 non-null   object\n",
      " 4   AGE      5000 non-null   int64 \n",
      "dtypes: int64(2), object(3)\n",
      "memory usage: 234.4+ KB\n"
     ]
    }
   ],
   "source": [
    "df.info()"
   ]
  },
  {
   "cell_type": "code",
   "execution_count": 47,
   "id": "06bd42c9-faac-472d-9132-d3f251036dbc",
   "metadata": {},
   "outputs": [
    {
     "data": {
      "text/plain": [
       "Index(['PRICE', 'SOURCE', 'SEX', 'COUNTRY', 'AGE'], dtype='object')"
      ]
     },
     "execution_count": 47,
     "metadata": {},
     "output_type": "execute_result"
    }
   ],
   "source": [
    "df.columns"
   ]
  },
  {
   "cell_type": "code",
   "execution_count": 15,
   "id": "e88c1133-a0f3-449f-b27c-196fb3e59352",
   "metadata": {},
   "outputs": [
    {
     "data": {
      "text/plain": [
       "Int64Index([   0,    1,    2,    3,    4,    5,    6,    7,    8,    9,\n",
       "            ...\n",
       "            4990, 4991, 4992, 4993, 4994, 4995, 4996, 4997, 4998, 4999],\n",
       "           dtype='int64', length=5000)"
      ]
     },
     "execution_count": 15,
     "metadata": {},
     "output_type": "execute_result"
    }
   ],
   "source": [
    "df.index"
   ]
  },
  {
   "cell_type": "code",
   "execution_count": 16,
   "id": "17a1e377-a8cd-4773-b2e4-14c08bfb726c",
   "metadata": {},
   "outputs": [
    {
     "data": {
      "text/html": [
       "<div>\n",
       "<style scoped>\n",
       "    .dataframe tbody tr th:only-of-type {\n",
       "        vertical-align: middle;\n",
       "    }\n",
       "\n",
       "    .dataframe tbody tr th {\n",
       "        vertical-align: top;\n",
       "    }\n",
       "\n",
       "    .dataframe thead th {\n",
       "        text-align: right;\n",
       "    }\n",
       "</style>\n",
       "<table border=\"1\" class=\"dataframe\">\n",
       "  <thead>\n",
       "    <tr style=\"text-align: right;\">\n",
       "      <th></th>\n",
       "      <th>count</th>\n",
       "      <th>mean</th>\n",
       "      <th>std</th>\n",
       "      <th>min</th>\n",
       "      <th>25%</th>\n",
       "      <th>50%</th>\n",
       "      <th>75%</th>\n",
       "      <th>max</th>\n",
       "    </tr>\n",
       "  </thead>\n",
       "  <tbody>\n",
       "    <tr>\n",
       "      <th>PRICE</th>\n",
       "      <td>5000.0</td>\n",
       "      <td>34.1320</td>\n",
       "      <td>12.464897</td>\n",
       "      <td>9.0</td>\n",
       "      <td>29.0</td>\n",
       "      <td>39.0</td>\n",
       "      <td>39.0</td>\n",
       "      <td>59.0</td>\n",
       "    </tr>\n",
       "    <tr>\n",
       "      <th>AGE</th>\n",
       "      <td>5000.0</td>\n",
       "      <td>23.5814</td>\n",
       "      <td>8.995908</td>\n",
       "      <td>15.0</td>\n",
       "      <td>17.0</td>\n",
       "      <td>21.0</td>\n",
       "      <td>27.0</td>\n",
       "      <td>66.0</td>\n",
       "    </tr>\n",
       "  </tbody>\n",
       "</table>\n",
       "</div>"
      ],
      "text/plain": [
       "        count     mean        std   min   25%   50%   75%   max\n",
       "PRICE  5000.0  34.1320  12.464897   9.0  29.0  39.0  39.0  59.0\n",
       "AGE    5000.0  23.5814   8.995908  15.0  17.0  21.0  27.0  66.0"
      ]
     },
     "execution_count": 16,
     "metadata": {},
     "output_type": "execute_result"
    }
   ],
   "source": [
    "df.describe().T"
   ]
  },
  {
   "cell_type": "code",
   "execution_count": 17,
   "id": "5bb11b00-4c8a-4a2f-a182-8b2d55b50e66",
   "metadata": {},
   "outputs": [
    {
     "data": {
      "text/plain": [
       "False"
      ]
     },
     "execution_count": 17,
     "metadata": {},
     "output_type": "execute_result"
    }
   ],
   "source": [
    "df.isnull().values.any()"
   ]
  },
  {
   "cell_type": "code",
   "execution_count": 18,
   "id": "303c6225-b7f4-4c00-b4d7-9ea31439a6eb",
   "metadata": {},
   "outputs": [],
   "source": [
    "def check_df(dataframe, head=5):\n",
    "    print(\"--Shape--\")\n",
    "    print(dataframe.shape)\n",
    "\n",
    "    print(\"--Types--\")\n",
    "    print(dataframe.dtypes)\n",
    "\n",
    "    print(\"--Head--\")\n",
    "    print(dataframe.head(head))\n",
    "\n",
    "    print(\"--Tail--\")\n",
    "    print(dataframe.tail(head))\n",
    "\n",
    "    print(\"--NA--\")\n",
    "    print(dataframe.isnull().sum())\n",
    "\n",
    "    print(\"--Describe--\")\n",
    "    print(dataframe.describe().T)"
   ]
  },
  {
   "cell_type": "code",
   "execution_count": 20,
   "id": "b6140467-18a9-4e6c-ad08-d30d50114bc7",
   "metadata": {},
   "outputs": [
    {
     "name": "stdout",
     "output_type": "stream",
     "text": [
      "--Shape--\n",
      "(5000, 5)\n",
      "--Types--\n",
      "PRICE       int64\n",
      "SOURCE     object\n",
      "SEX        object\n",
      "COUNTRY    object\n",
      "AGE         int64\n",
      "dtype: object\n",
      "--Head--\n",
      "   PRICE   SOURCE   SEX COUNTRY  AGE\n",
      "0     39  android  male     bra   17\n",
      "1     39  android  male     bra   17\n",
      "2     49  android  male     bra   17\n",
      "3     29  android  male     tur   17\n",
      "4     49  android  male     tur   17\n",
      "--Tail--\n",
      "      PRICE   SOURCE     SEX COUNTRY  AGE\n",
      "4995     29  android  female     bra   31\n",
      "4996     29  android  female     bra   31\n",
      "4997     29  android  female     bra   31\n",
      "4998     39  android  female     bra   31\n",
      "4999     29  android  female     bra   31\n",
      "--NA--\n",
      "PRICE      0\n",
      "SOURCE     0\n",
      "SEX        0\n",
      "COUNTRY    0\n",
      "AGE        0\n",
      "dtype: int64\n",
      "--Describe--\n",
      "        count     mean        std   min   25%   50%   75%   max\n",
      "PRICE  5000.0  34.1320  12.464897   9.0  29.0  39.0  39.0  59.0\n",
      "AGE    5000.0  23.5814   8.995908  15.0  17.0  21.0  27.0  66.0\n"
     ]
    }
   ],
   "source": [
    "check_df(df)"
   ]
  },
  {
   "cell_type": "markdown",
   "id": "a5577260-edfa-4574-8a8b-0f6bc6ffa15b",
   "metadata": {},
   "source": [
    "2-Persona.csv verisini kullanarak Kategorik ve Numerik Değişkenleri belirleyin."
   ]
  },
  {
   "cell_type": "code",
   "execution_count": 21,
   "id": "9b62d972-1a6c-4ea9-85df-d7c69ca38518",
   "metadata": {
    "tags": []
   },
   "outputs": [
    {
     "data": {
      "text/plain": [
       "29    1305\n",
       "39    1260\n",
       "49    1031\n",
       "19     992\n",
       "59     212\n",
       "9      200\n",
       "Name: PRICE, dtype: int64"
      ]
     },
     "execution_count": 21,
     "metadata": {},
     "output_type": "execute_result"
    }
   ],
   "source": [
    "df[\"PRICE\"].value_counts()"
   ]
  },
  {
   "cell_type": "code",
   "execution_count": 22,
   "id": "197ff685-506b-454f-bd9f-d3f08759018b",
   "metadata": {
    "collapsed": true,
    "jupyter": {
     "outputs_hidden": true
    },
    "tags": []
   },
   "outputs": [
    {
     "data": {
      "text/plain": [
       "15    569\n",
       "16    494\n",
       "17    450\n",
       "18    348\n",
       "19    309\n",
       "20    264\n",
       "21    257\n",
       "22    242\n",
       "26    216\n",
       "23    210\n",
       "25    180\n",
       "24    173\n",
       "31    120\n",
       "27    113\n",
       "28    109\n",
       "33     95\n",
       "35     87\n",
       "37     70\n",
       "32     68\n",
       "42     66\n",
       "29     63\n",
       "34     61\n",
       "30     57\n",
       "38     42\n",
       "43     36\n",
       "50     33\n",
       "44     29\n",
       "41     28\n",
       "36     25\n",
       "45     24\n",
       "51     23\n",
       "40     21\n",
       "47     20\n",
       "49     19\n",
       "46     12\n",
       "57      8\n",
       "65      8\n",
       "59      8\n",
       "56      7\n",
       "66      7\n",
       "52      7\n",
       "53      6\n",
       "39      5\n",
       "54      4\n",
       "55      4\n",
       "61      3\n",
       "Name: AGE, dtype: int64"
      ]
     },
     "execution_count": 22,
     "metadata": {},
     "output_type": "execute_result"
    }
   ],
   "source": [
    "df[\"AGE\"].value_counts()"
   ]
  },
  {
   "cell_type": "code",
   "execution_count": 23,
   "id": "9384da88-a35f-4f64-a33d-b86dd2505948",
   "metadata": {},
   "outputs": [
    {
     "name": "stdout",
     "output_type": "stream",
     "text": [
      "SOURCE yes\n",
      "SEX yes\n",
      "COUNTRY yes\n"
     ]
    }
   ],
   "source": [
    "noncountable_columns = []\n",
    "for col in df.columns:\n",
    "    if df[col].dtypes == \"O\":\n",
    "        print(col, \"yes\") \n",
    "        noncountable_columns.append(col)"
   ]
  },
  {
   "cell_type": "code",
   "execution_count": 24,
   "id": "d890b37b-b27c-4eb9-8089-d8816e086771",
   "metadata": {},
   "outputs": [
    {
     "data": {
      "text/html": [
       "<div>\n",
       "<style scoped>\n",
       "    .dataframe tbody tr th:only-of-type {\n",
       "        vertical-align: middle;\n",
       "    }\n",
       "\n",
       "    .dataframe tbody tr th {\n",
       "        vertical-align: top;\n",
       "    }\n",
       "\n",
       "    .dataframe thead th {\n",
       "        text-align: right;\n",
       "    }\n",
       "</style>\n",
       "<table border=\"1\" class=\"dataframe\">\n",
       "  <thead>\n",
       "    <tr style=\"text-align: right;\">\n",
       "      <th></th>\n",
       "      <th>PRICE</th>\n",
       "      <th>AGE</th>\n",
       "    </tr>\n",
       "  </thead>\n",
       "  <tbody>\n",
       "    <tr>\n",
       "      <th>0</th>\n",
       "      <td>39</td>\n",
       "      <td>17</td>\n",
       "    </tr>\n",
       "    <tr>\n",
       "      <th>1</th>\n",
       "      <td>39</td>\n",
       "      <td>17</td>\n",
       "    </tr>\n",
       "    <tr>\n",
       "      <th>2</th>\n",
       "      <td>49</td>\n",
       "      <td>17</td>\n",
       "    </tr>\n",
       "    <tr>\n",
       "      <th>3</th>\n",
       "      <td>29</td>\n",
       "      <td>17</td>\n",
       "    </tr>\n",
       "    <tr>\n",
       "      <th>4</th>\n",
       "      <td>49</td>\n",
       "      <td>17</td>\n",
       "    </tr>\n",
       "  </tbody>\n",
       "</table>\n",
       "</div>"
      ],
      "text/plain": [
       "   PRICE  AGE\n",
       "0     39   17\n",
       "1     39   17\n",
       "2     49   17\n",
       "3     29   17\n",
       "4     49   17"
      ]
     },
     "execution_count": 24,
     "metadata": {},
     "output_type": "execute_result"
    }
   ],
   "source": [
    "df.drop(noncountable_columns, axis=1).head()"
   ]
  },
  {
   "cell_type": "code",
   "execution_count": 34,
   "id": "a489d490-82bc-4849-95a3-24f8b5776aae",
   "metadata": {},
   "outputs": [
    {
     "data": {
      "text/plain": [
       "['SOURCE', 'SEX', 'COUNTRY']"
      ]
     },
     "execution_count": 34,
     "metadata": {},
     "output_type": "execute_result"
    }
   ],
   "source": [
    "cat_cols = [col for col in df.columns if df[col].dtypes == \"O\"]\n",
    "cat_cols"
   ]
  },
  {
   "cell_type": "code",
   "execution_count": 35,
   "id": "02ea527a-23ec-4c41-be8d-5a2e91f5bbab",
   "metadata": {},
   "outputs": [
    {
     "data": {
      "text/plain": [
       "['PRICE']"
      ]
     },
     "execution_count": 35,
     "metadata": {},
     "output_type": "execute_result"
    }
   ],
   "source": [
    "num_but_cat = [col for col in df.columns if df[col].nunique() < 10 and df[col].dtypes != \"O\"]\n",
    "num_but_cat"
   ]
  },
  {
   "cell_type": "code",
   "execution_count": 36,
   "id": "2142d828-4d6f-4f9c-8456-0773f0dd8e03",
   "metadata": {},
   "outputs": [
    {
     "data": {
      "text/plain": [
       "[]"
      ]
     },
     "execution_count": 36,
     "metadata": {},
     "output_type": "execute_result"
    }
   ],
   "source": [
    "cat_but_car = [col for col in df.columns if df[col].nunique() > 20 and df[col].dtypes == \"O\"]\n",
    "cat_but_car"
   ]
  },
  {
   "cell_type": "code",
   "execution_count": 37,
   "id": "43fe109d-7f29-4bd3-8eeb-6b3bf97047c8",
   "metadata": {},
   "outputs": [],
   "source": [
    "cat_cols = cat_cols + num_but_cat"
   ]
  },
  {
   "cell_type": "code",
   "execution_count": 38,
   "id": "8d8d21f7-c3e1-47a2-9a59-ea33ee072dc8",
   "metadata": {},
   "outputs": [
    {
     "data": {
      "text/plain": [
       "['SOURCE', 'SEX', 'COUNTRY', 'PRICE']"
      ]
     },
     "execution_count": 38,
     "metadata": {},
     "output_type": "execute_result"
    }
   ],
   "source": [
    "cat_cols"
   ]
  },
  {
   "cell_type": "code",
   "execution_count": 48,
   "id": "ad2a5241-9052-414c-8e4d-1706a00cf1a7",
   "metadata": {},
   "outputs": [
    {
     "data": {
      "text/plain": [
       "['AGE']"
      ]
     },
     "execution_count": 48,
     "metadata": {},
     "output_type": "execute_result"
    }
   ],
   "source": [
    "num_cols = [col for col in df.columns if df[col].dtypes != 'O' and col not in cat_cols]\n",
    "num_cols"
   ]
  },
  {
   "cell_type": "markdown",
   "id": "05787dcd-3f11-499d-9939-a741eecaf0b5",
   "metadata": {},
   "source": [
    "3-Persona.csv verisini kullanarak Kategorik ve Numerik Değişkenleri analiz edin. Yorumda bulunun."
   ]
  },
  {
   "cell_type": "code",
   "execution_count": 49,
   "id": "63aed4a3-78ca-428e-afc0-024ecec383f4",
   "metadata": {},
   "outputs": [],
   "source": [
    "def cat_summary(dataframe, col_name, plot=False):\n",
    "\n",
    "    print(pd.DataFrame({col_name: dataframe[col_name].value_counts(),\n",
    "                        \"Ratio\": 100 * dataframe[col_name].value_counts() / len(dataframe)}))\n",
    "    print(\"##########################################\")\n",
    "\n",
    "    if plot:\n",
    "        sns.countplot(x=dataframe[col_name], data=dataframe)\n",
    "        plt.show()"
   ]
  },
  {
   "cell_type": "code",
   "execution_count": 50,
   "id": "97ec7528-4751-4452-b69e-b95e57f8e58b",
   "metadata": {},
   "outputs": [
    {
     "name": "stdout",
     "output_type": "stream",
     "text": [
      "         SOURCE  Ratio\n",
      "android    2974  59.48\n",
      "ios        2026  40.52\n",
      "##########################################\n"
     ]
    },
    {
     "data": {
      "image/png": "[encoded data removed]",
      "text/plain": [
       "<Figure size 432x288 with 1 Axes>"
      ]
     },
     "metadata": {
      "needs_background": "light"
     },
     "output_type": "display_data"
    },
    {
     "name": "stdout",
     "output_type": "stream",
     "text": [
      "         SEX  Ratio\n",
      "female  2621  52.42\n",
      "male    2379  47.58\n",
      "##########################################\n"
     ]
    },
    {
     "data": {
      "image/png": "[encoded data removed]",
      "text/plain": [
       "<Figure size 432x288 with 1 Axes>"
      ]
     },
     "metadata": {
      "needs_background": "light"
     },
     "output_type": "display_data"
    },
    {
     "name": "stdout",
     "output_type": "stream",
     "text": [
      "     COUNTRY  Ratio\n",
      "usa     2065  41.30\n",
      "bra     1496  29.92\n",
      "deu      455   9.10\n",
      "tur      451   9.02\n",
      "fra      303   6.06\n",
      "can      230   4.60\n",
      "##########################################\n"
     ]
    },
    {
     "data": {
      "image/png": "[encoded data removed]",
      "text/plain": [
       "<Figure size 432x288 with 1 Axes>"
      ]
     },
     "metadata": {
      "needs_background": "light"
     },
     "output_type": "display_data"
    },
    {
     "name": "stdout",
     "output_type": "stream",
     "text": [
      "    PRICE  Ratio\n",
      "29   1305  26.10\n",
      "39   1260  25.20\n",
      "49   1031  20.62\n",
      "19    992  19.84\n",
      "59    212   4.24\n",
      "9     200   4.00\n",
      "##########################################\n"
     ]
    },
    {
     "data": {
      "image/png": "[encoded data removed]",
      "text/plain": [
       "<Figure size 432x288 with 1 Axes>"
      ]
     },
     "metadata": {
      "needs_background": "light"
     },
     "output_type": "display_data"
    }
   ],
   "source": [
    "for col in cat_cols:\n",
    "    cat_summary(df, col, plot=True)"
   ]
  },
  {
   "cell_type": "markdown",
   "id": "b786afe8-9060-4a55-b760-586b0f94fbf3",
   "metadata": {},
   "source": [
    "### Kategorik değişkenlerin üçü object ve cardinal değiller, fiyat değişkeni de sayısal olmasına katerogik büyük ihtimalle belirli ürün fiyatlarını göstermekte\n"
   ]
  },
  {
   "cell_type": "code",
   "execution_count": 51,
   "id": "68514105-7f5f-418d-a779-130168107140",
   "metadata": {},
   "outputs": [],
   "source": [
    "def num_summary(dataframe, numerical_col, plot=False):\n",
    "\n",
    "    quantiles = [0.05, 0.10, 0.20, 0.30, 0.40, 0.50, 0.60, 0.70, 0.80, 0.90, 0.95, 0.99]\n",
    "\n",
    "    print(dataframe[numerical_col].describe(quantiles).T)\n",
    "\n",
    "    if plot:\n",
    "        dataframe[numerical_col].hist(bins=20)\n",
    "        plt.xlabel(numerical_col)\n",
    "        plt.title(numerical_col)\n",
    "        plt.show()"
   ]
  },
  {
   "cell_type": "code",
   "execution_count": 52,
   "id": "456bbad9-fe49-407b-8d64-2ed64ef38080",
   "metadata": {},
   "outputs": [
    {
     "name": "stdout",
     "output_type": "stream",
     "text": [
      "count    5000.000000\n",
      "mean       23.581400\n",
      "std         8.995908\n",
      "min        15.000000\n",
      "5%         15.000000\n",
      "10%        15.000000\n",
      "20%        16.000000\n",
      "30%        17.000000\n",
      "40%        19.000000\n",
      "50%        21.000000\n",
      "60%        23.000000\n",
      "70%        26.000000\n",
      "80%        30.000000\n",
      "90%        36.000000\n",
      "95%        43.000000\n",
      "99%        53.000000\n",
      "max        66.000000\n",
      "Name: AGE, dtype: float64\n"
     ]
    },
    {
     "data": {
      "image/png": "[encoded data removed]",
      "text/plain": [
       "<Figure size 432x288 with 1 Axes>"
      ]
     },
     "metadata": {
      "needs_background": "light"
     },
     "output_type": "display_data"
    }
   ],
   "source": [
    "for col in num_cols:\n",
    "    num_summary(df, col, plot=True)"
   ]
  },
  {
   "cell_type": "markdown",
   "id": "a8ea6e11-11a8-4b1e-a94c-bbd2ea031990",
   "metadata": {},
   "source": [
    "### Sayısal değişkenlerden olan yaş normal dağılıma sahip değil ve ortalamadan çok uzak değerlere sahip yaşlar da bulunmakta. Bu durumda ya anket için sample iyi seçilemedi ya da bir anket değil ve ürün satış datasını göstermekte bu durumda ürününün büyük çoğunluğunu gençlerin aldığını düşünebiliriz. Ek olarak ileriki safhalarda da aykırı gözlemleri ayırmak gerekebilir."
   ]
  },
  {
   "cell_type": "code",
   "execution_count": null,
   "id": "75fbee2c-d4da-4ff6-ace6-1d584f94aa4d",
   "metadata": {},
   "outputs": [],
   "source": []
  }
 ],
 "metadata": {
  "kernelspec": {
   "display_name": "Python 3 (ipykernel)",
   "language": "python",
   "name": "python3"
  },
  "language_info": {
   "codemirror_mode": {
    "name": "ipython",
    "version": 3
   },
   "file_extension": ".py",
   "mimetype": "text/x-python",
   "name": "python",
   "nbconvert_exporter": "python",
   "pygments_lexer": "ipython3",
   "version": "3.9.12"
  }
 },
 "nbformat": 4,
 "nbformat_minor": 5
}
